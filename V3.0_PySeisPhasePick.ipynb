{
 "cells": [
  {
   "cell_type": "markdown",
   "metadata": {},
   "source": [
    "> 这是一个简单的辅助震相标定的工具，UI界面尚且粗糙，但多数功能可用。</br>\n",
    "> 该项目可能会停止维护。"
   ]
  },
  {
   "cell_type": "markdown",
   "metadata": {},
   "source": [
    "## 1、导入必须的Python库"
   ]
  },
  {
   "cell_type": "code",
   "execution_count": 1,
   "metadata": {},
   "outputs": [],
   "source": [
    "import os\n",
    "import time\n",
    "import glob\n",
    "import datetime\n",
    "from threading import Thread\n",
    "# 基础科学计算\n",
    "import numpy as np\n",
    "import pandas as pd\n",
    "import matplotlib.pyplot as plt\n",
    "# osbpy\n",
    "from obspy import read\n",
    "from obspy.signal.trigger import (classic_sta_lta, z_detect, recursive_sta_lta, carl_sta_trig, delayed_sta_lta)\n",
    "# GUI\n",
    "import bqplot as bq\n",
    "import ipywidgets as widgets\n",
    "from IPython.display import display\n",
    "from ipywidgets.widgets import Layout, VBox, HBox, HTML\n",
    "from ipywidgets.widgets import Label, FloatProgress, FloatSlider, Button, Accordion, ToggleButtons, Tab, Dropdown, RadioButtons, FloatRangeSlider, FloatText\n",
    "\n",
    "# 日志配置\n",
    "import logging\n",
    "logging.basicConfig(level=logging.WARNING, format='%(asctime)s - %(levelname)s: %(message)s')"
   ]
  },
  {
   "cell_type": "markdown",
   "metadata": {},
   "source": [
    "**一些基本信息：SAC头段变量**\n",
    "- b: 文件起始时间，相对于参考时刻秒数；\n",
    "- e: 文件结束时间，相对于参考时刻秒数；\n",
    "- o: 地震事件相对于参考时刻秒数；\n",
    "- a: 存储地震事件初至时间，如果a中包含P波到时，此时ka值可以设置为\"P\"；\n",
    "- f: 存储地震事件结束时间；\n",
    "- t1: 自定义时间时刻，包含震相PcP到时，一般定义为kt1为\"PcP\"\n",
    "- 初步处理后的数据，t1有值，kt1为P\n",
    "- 处理后数据，将到时存储到a中，ka为P"
   ]
  },
  {
   "cell_type": "markdown",
   "metadata": {},
   "source": [
    "**地震事件信息**\n",
    "- seisfloder: 包含地震事件的文件夹\n",
    "- seisstation: 包含地震台站的文件夹\n",
    "- outputfolder: 输出文件夹\n",
    "- targetkey: 要将标定P波写入的字段\n",
    "- targetkeystr: 记录字段含义的字段，ka\n",
    "- targetstrvalue: 记录字段写入的值\n",
    "- model: 设计好的模式，自动循环模式，手动选择模式，全自动选择模式\n",
    "- change model: 按钮控制的模式, event, station"
   ]
  },
  {
   "cell_type": "code",
   "execution_count": 2,
   "metadata": {},
   "outputs": [],
   "source": [
    "SeisFolders = r\"D:\\VirtualboxData\\Lab\\Data\\event8_reprocess\\event8\\v3_mark\"\n",
    "OutputFolder = r\"D:\\VirtualboxData\\Lab\\Data\\event8_reprocess\\event8\\v3_mark\"\n",
    "OriginKey=\"t1\"\n",
    "TargetKey = \"a\"\n",
    "TargetKeyStr = \"ka\"\n",
    "TargetKeyStrValue = \"P\"\n",
    "\n",
    "assert os.path.exists(OutputFolder), \"输出文件夹不存在\"\n",
    "\n",
    "ModelSet = [\"Auto Loop\", \"Manual\", \"Auto Plot\"]\n",
    "# 模式 Event, Station\n",
    "ChangeMode = \"Station\""
   ]
  },
  {
   "cell_type": "code",
   "execution_count": 3,
   "metadata": {},
   "outputs": [],
   "source": [
    "# 初始化的随机地震数据，无意义\n",
    "SesiData = {\"x\":np.arange(0,100), \"y\":np.random.randn(100)\n",
    "            # 该参数初始值设计检测算法计算，置0会报错\n",
    "            , \"sampling_rate\":10\n",
    "            , OriginKey:0, \"b\":0, TargetKey:0, \"t1_relative\":0, \"p_relative\":0, \"name\":\"init\"}\n",
    "# 标记P波的位置\n",
    "MarkPValue = SesiData[\"p_relative\"]\n",
    "# 自动标定P波的位置\n",
    "OriginPValue = SesiData[\"t1_relative\"]"
   ]
  },
  {
   "cell_type": "markdown",
   "metadata": {},
   "source": [
    "- 各算法参数"
   ]
  },
  {
   "cell_type": "code",
   "execution_count": 4,
   "metadata": {},
   "outputs": [],
   "source": [
    "# 算法1\n",
    "Alg1_Sta, Alg1_Lta = 5, 10\n",
    "Alg1_Trig1, Alg1_Trig2 = 0.5, 1.5\n",
    "# 算法2\n",
    "Z_Detect, Alg2_Trig1, Alg2_Trig2 = 5, -0.4, 0.3\n",
    "# 算法3\n",
    "Alg3_Sta, Alg3_Lta = 5, 10\n",
    "Alg3_Trig1, Alg3_Trig2 = 0.5, 1.5\n",
    "# 算法4\n",
    "Alg4_Sta, Alg4_Lta, Alg4_Carl1, Alg4_Carl2 = 5, 10, 0.8, 0.8\n",
    "Alg4_Trig1, Alg4_Trig2 = -20, 20\n",
    "# 算法5\n",
    "Alg5_Sta, Alg5_Lta = 2, 4\n",
    "Alg5_Trig1, Alg5_Trig2 = 5, 10"
   ]
  },
  {
   "cell_type": "code",
   "execution_count": 5,
   "metadata": {},
   "outputs": [],
   "source": [
    "# 算法数据\n",
    "AlgorithmData = {\"classic_sta_lta\":np.random.randn(100), \"z_detect\":np.random.randn(100), \"recursive_sta_lta\":np.random.randn(100), \"carl_sta_trig\":np.random.randn(100), \"delayed_sta_lta\":np.random.randn(100)}"
   ]
  },
  {
   "cell_type": "markdown",
   "metadata": {},
   "source": [
    "- 窗口高度"
   ]
  },
  {
   "cell_type": "code",
   "execution_count": 6,
   "metadata": {
    "jupyter": {
     "source_hidden": true
    }
   },
   "outputs": [],
   "source": [
    "MiddleFigHeight = \"200px\"\n",
    "BottomFigHeight = \"200px\""
   ]
  },
  {
   "cell_type": "markdown",
   "metadata": {},
   "source": [
    "- CSV 记录工具"
   ]
  },
  {
   "cell_type": "code",
   "execution_count": 7,
   "metadata": {
    "jupyter": {
     "source_hidden": true
    }
   },
   "outputs": [],
   "source": [
    "## 待处理"
   ]
  },
  {
   "cell_type": "markdown",
   "metadata": {},
   "source": [
    "## 2、读取数据"
   ]
  },
  {
   "cell_type": "markdown",
   "metadata": {},
   "source": [
    "- 获取地震事件的文件夹路径"
   ]
  },
  {
   "cell_type": "code",
   "execution_count": 8,
   "metadata": {
    "jupyter": {
     "source_hidden": true
    }
   },
   "outputs": [],
   "source": [
    "def getSeisFolders(folder, event=\"*\"):\n",
    "    '''读取地震数据'''\n",
    "    if(os.path.isdir(folder)):\n",
    "        items = glob.glob(os.path.join(folder, event))\n",
    "        values = [i for i in items if os.path.isdir(i)]\n",
    "        keys = [os.path.split(i)[-1] for i in values]\n",
    "        \n",
    "        logging.info(\"更新地震事件文件夹:{} 数量:{}\".format(folder, len(values)))\n",
    "        return [i for i in zip(keys, values)]\n",
    "    \n",
    "    else:\n",
    "        logging.warning(\"文件夹路径不存在：{}\".format(folder))\n",
    "    return []"
   ]
  },
  {
   "cell_type": "markdown",
   "metadata": {},
   "source": [
    "- 获取地震事件的台站路径"
   ]
  },
  {
   "cell_type": "code",
   "execution_count": 9,
   "metadata": {},
   "outputs": [],
   "source": [
    "def getSeisStations(folder, station=\"*.Z\"):\n",
    "    '''读取地震台站'''\n",
    "    if(os.path.isdir(folder)):\n",
    "        items = glob.glob(os.path.join(folder, station))\n",
    "        if(len(items)):\n",
    "            values = items\n",
    "            # 出错请尝试修改，或者直接注释掉\n",
    "            values = sorted(items, key=lambda x: int(x.split(\".\")[-2]))\n",
    "            \n",
    "            keys = [os.path.split(i)[-1] for i in values]\n",
    "            logging.debug(\"更新地震事件台站:{} 数量:{}\".format(folder, len(values)))\n",
    "            return [i for i in zip(keys, values)]\n",
    "    else:\n",
    "        logging.warning(\"文件夹路径不存在：{}\".format(folder))\n",
    "            \n",
    "    return []"
   ]
  },
  {
   "cell_type": "markdown",
   "metadata": {},
   "source": [
    "- 获取地震数据"
   ]
  },
  {
   "cell_type": "code",
   "execution_count": 10,
   "metadata": {},
   "outputs": [],
   "source": [
    "def getKey(item, key, nan=0):\n",
    "    return nan if(key not in item.keys()) else item[key]\n",
    "\n",
    "def readSeisData(path, number=0):\n",
    "    '''读取数据'''\n",
    "    if(os.path.exists(path)):\n",
    "        # 读取\n",
    "        filename = os.path.split(path)[-1]\n",
    "        data = read(path)\n",
    "        # 判断序列\n",
    "        if(number < len(data)):\n",
    "            temp = {\n",
    "                \"x\": data[number].times(\"relative\"),\n",
    "                \"y\": data[number].data,\n",
    "                \"sampling_rate\": data[number].stats[\"sampling_rate\"],\n",
    "                \"t1\": getKey(data[number].stats[\"sac\"], OriginKey),\n",
    "                \"b\": getKey(data[number].stats[\"sac\"], \"b\"),\n",
    "                \"a\": getKey(data[number].stats[\"sac\"], TargetKey),\n",
    "                \"name\": filename\n",
    "            }\n",
    "            # 计算p波时间\n",
    "            temp[\"t1_relative\"] = 0 if(temp[\"t1\"]==0) else (temp[\"t1\"] - temp[\"b\"])\n",
    "            temp[\"p_relative\"] = temp[\"t1_relative\"] if(temp[\"a\"]==0) else (temp[\"a\"]-temp[\"b\"])\n",
    "            \n",
    "            logging.info(\"读取台站数据:{}\".format(path))\n",
    "            return temp\n",
    "        \n",
    "        else:\n",
    "            logging.warning(\"地震文件序列出错:{}\".format(number))\n",
    "    else:\n",
    "        logging.warning(\"文件路径不存在：{}\".format(path))"
   ]
  },
  {
   "cell_type": "markdown",
   "metadata": {},
   "source": [
    "## 2、GUI 设计"
   ]
  },
  {
   "cell_type": "markdown",
   "metadata": {},
   "source": [
    "### a/选择窗口"
   ]
  },
  {
   "cell_type": "markdown",
   "metadata": {},
   "source": [
    "- 窗口添加距离"
   ]
  },
  {
   "cell_type": "code",
   "execution_count": 11,
   "metadata": {},
   "outputs": [],
   "source": [
    "def addSpacing(widget, key=\"right\", width=\"10%\"):\n",
    "    '''添加 top/right/bottom/left 距离'''\n",
    "    key = \"right\" if key not in [\"top\", \"bottom\", \"right\", \"left\"] else key\n",
    "    widget.add_class(\"{}-spacing-class\".format(key))\n",
    "    display(HTML(\n",
    "     \"<style>.{}-spacing-class {{margin-{}: {} }};</style>\".format(key, key, width)\n",
    "    ))"
   ]
  },
  {
   "cell_type": "markdown",
   "metadata": {},
   "source": [
    "- **设计窗口**"
   ]
  },
  {
   "cell_type": "code",
   "execution_count": 12,
   "metadata": {},
   "outputs": [],
   "source": [
    "def setSelectWidget(event_options=[\"20191225154.817\"], station_options=[\"12.2.5.1.54.817.1.Z\"], modle_options=[\"Auto Loop\", \"Manual\", \"Another\"]):\n",
    "    '''设置地震事件选择窗口'''\n",
    "    # 模块样式\n",
    "    style = {'description_width': 'initial'}\n",
    "    # 子元素布局\n",
    "    items_layout = Layout(width=\"25%\")\n",
    "    # 窗口布局\n",
    "    select_layout = Layout(width=\"99%\", justify_content=\"space-around\", display='flex')\n",
    "    \n",
    "    # 地震事件文件夹\n",
    "    event_widget = Dropdown(options=event_options, index=0, description=\"Select Event:\", layout=items_layout, style=style)\n",
    "    addSpacing(event_widget)\n",
    "    # 地震事件台站\n",
    "    station_widget = Dropdown(options=station_options, index=0, description=\"Select Station:\", layout=items_layout, style=style)\n",
    "    addSpacing(station_widget)\n",
    "    # 模块选择\n",
    "    model_widget = Dropdown(options=modle_options, index=0, description=\"Select Model:\", layout=items_layout, style=style)\n",
    "    addSpacing(model_widget)\n",
    "    \n",
    "    # 组装\n",
    "    select_widget = Accordion(children=[ HBox([event_widget, station_widget, model_widget])], layout=select_layout)\n",
    "    select_widget.set_title(0, \"Select Widget\")\n",
    "    \n",
    "    logging.info(\"Select widget GUI构建完毕\")\n",
    "    \n",
    "    return (event_widget, station_widget, model_widget, select_widget)"
   ]
  },
  {
   "cell_type": "code",
   "execution_count": 13,
   "metadata": {},
   "outputs": [
    {
     "data": {
      "application/vnd.jupyter.widget-view+json": {
       "model_id": "eaa4b9320f954a94811a28caa89c5362",
       "version_major": 2,
       "version_minor": 0
      },
      "text/plain": [
       "HTML(value='<style>.right-spacing-class {margin-right: 10% };</style>')"
      ]
     },
     "metadata": {},
     "output_type": "display_data"
    },
    {
     "data": {
      "application/vnd.jupyter.widget-view+json": {
       "model_id": "17f2b6e2daf5400d8c9e7b5811c1176c",
       "version_major": 2,
       "version_minor": 0
      },
      "text/plain": [
       "HTML(value='<style>.right-spacing-class {margin-right: 10% };</style>')"
      ]
     },
     "metadata": {},
     "output_type": "display_data"
    },
    {
     "data": {
      "application/vnd.jupyter.widget-view+json": {
       "model_id": "e527152ba0834563b421b452723f34a5",
       "version_major": 2,
       "version_minor": 0
      },
      "text/plain": [
       "HTML(value='<style>.right-spacing-class {margin-right: 10% };</style>')"
      ]
     },
     "metadata": {},
     "output_type": "display_data"
    }
   ],
   "source": [
    "# 获取目标文件夹下的地震事件\n",
    "event_options = getSeisFolders(folder=SeisFolders, event=\"*\")\n",
    "# 获取第一个加载的事件，如果事件内台站为空，怎么添加\n",
    "first_event = \"\" if(event_options==[]) else event_options[0][1]\n",
    "\n",
    "event_widget, station_widget, model_widget, select_widget = setSelectWidget(event_options=event_options, station_options=getSeisStations(folder=first_event, station=\"*.Z\"), modle_options=ModelSet)"
   ]
  },
  {
   "cell_type": "markdown",
   "metadata": {},
   "source": [
    "### b/原始数据窗口"
   ]
  },
  {
   "cell_type": "markdown",
   "metadata": {},
   "source": [
    "- **设计窗口**"
   ]
  },
  {
   "cell_type": "markdown",
   "metadata": {},
   "source": [
    "- 显示地震图像"
   ]
  },
  {
   "cell_type": "code",
   "execution_count": 14,
   "metadata": {},
   "outputs": [],
   "source": [
    "def getFigure(x, y, originx, markx, layout, title=\"\", xlabel=\"Relative Time\", ylabel=\"Value\"):\n",
    "    '''创建主图'''\n",
    "    # 检查数组形状\n",
    "    assert x.shape==y.shape, \"xy数组形状不同\"\n",
    "    # 线性尺度\n",
    "    sc_x, sc_y = bq.LinearScale(), bq.LinearScale()\n",
    "    # 轴\n",
    "    ax_x, ax_y = bq.Axis(scale=sc_x, label=xlabel, num_ticks=10), bq.Axis(scale=sc_y, orientation='vertical', label=ylabel, grid_lines=\"solid\", label_offset=\"50px\", num_ticks=6)\n",
    "    # 曲线\n",
    "    line = bq.Lines(x=x, y=y, scales={\"x\":sc_x, \"y\":sc_y}, stroke_width=1)\n",
    "    # 初始曲线\n",
    "    originline = bq.Lines(x=[originx, originx], y=[y.min(), y.max()], scales={\"x\":sc_x, \"y\":sc_y}, colors=[\"red\"], opacities=[0.7], stroke_width=1)\n",
    "    # 标志曲线\n",
    "    markline = bq.Lines(x=[markx, markx], y=[y.min(), y.max()], scales={\"x\":sc_x, \"y\":sc_y}, colors=[\"orange\"], opacities=[0.7], stroke_width=1)\n",
    "    # 组装\n",
    "    fig = bq.Figure(marks=[line, markline, originline], axes=[ax_x, ax_y], title=title, layout=layout, fig_margin=dict(top=10, bottom=30, left=60, right=20))\n",
    "    \n",
    "    return {\"sc_x\": sc_x, \"sc_y\":sc_y\n",
    "           , \"ax_x\":ax_x, \"ax_y\":ax_y\n",
    "           , \"line\":line, \"markline\":markline, \"originline\":originline\n",
    "           , \"figure\": fig}"
   ]
  },
  {
   "cell_type": "markdown",
   "metadata": {},
   "source": [
    "- 控制主体图件"
   ]
  },
  {
   "cell_type": "code",
   "execution_count": 15,
   "metadata": {},
   "outputs": [],
   "source": [
    "def setSeisWiget(x, y, originpvalue=OriginPValue, markpvalue=MarkPValue):\n",
    "    '''设置原始图像及控制窗口'''\n",
    "    style = {'description_width': 'initial'}\n",
    "\n",
    "    rangebutton_layout = Layout(height=\"20px\", width=\"35%\")\n",
    "    button_layout = Layout(width=\"100%\", height=\"30px\", flex=\"1 1 auto\")\n",
    "    range_layout = Layout(width=\"auto\", flex=\"1 1 auto\")\n",
    "    range_label_layout = Layout(justify_content=\"center\")\n",
    "    fig_layout = Layout(width=\"77%\", height=MiddleFigHeight)\n",
    "    option_layout = Layout(width=\"23%\", align_items=\"stretch\", justify_content=\"center\")\n",
    "    seis_layout = Layout(width=\"99%\")\n",
    "    # 显示图像数据\n",
    "    bigfig = getFigure(x, y, originpvalue, markpvalue, layout=fig_layout)\n",
    "    # 切换下一个台站\n",
    "    next_button = Button(description=\"Next\", layout=button_layout, button_style=\"info\")\n",
    "    # 切换上一个台站\n",
    "    previous_button = Button(description=\"Previous\", layout=button_layout, button_style=\"info\")\n",
    "    # 切换模式\n",
    "    model_button = Button(description=\"Station Modle\", layout=button_layout, button_style=\"danger\")\n",
    "    # 重置\n",
    "    reset_button = Button(description=\"Reset\", layout=button_layout)\n",
    "    # 忽略\n",
    "    ignore_button = Button(description=\"Ignore\", layout=button_layout)\n",
    "    # 应用\n",
    "    apply_button = Button(description=\"Apply\", layout=button_layout, button_style=\"success\")\n",
    "    \n",
    "    # 显示介绍\n",
    "    range_label = HTML(value=\"地震波形区间显示：\")\n",
    "    # 左侧数字栏，右侧数字栏\n",
    "    range_left_label = Label(\"Left:\", style=style)\n",
    "    range_left_text = FloatText(step=1, layout=rangebutton_layout)\n",
    "    range_right_label = Label(\"Right:\", style=style)\n",
    "    range_right_text = FloatText(step=1, layout=rangebutton_layout)\n",
    "    # 控制范围\n",
    "    range_wiget = FloatRangeSlider(step=1, continuous_update=True, readout=False, readout_format='.0f', layout=range_layout)\n",
    "    \n",
    "    # 汇总\n",
    "    option_widget = VBox([range_label\n",
    "                          , HBox([range_left_label, range_left_text, range_right_label, range_right_text], layout=range_label_layout)\n",
    "                          , range_wiget\n",
    "                          , VBox([ \n",
    "                              HBox([previous_button, next_button])\n",
    "                              , HBox([reset_button, ignore_button])\n",
    "                              , HBox([model_button, apply_button]) ])], layout=option_layout)\n",
    "    \n",
    "    # 可折叠\n",
    "    seis_widget = Accordion(children=[HBox([bigfig[\"figure\"], option_widget])], layout=seis_layout)\n",
    "    seis_widget.set_title(0, \"Origin Seismic Widget\")\n",
    "    \n",
    "    logging.info(\"Origin seismic widget and oprate widget GUI 构建完毕\")\n",
    "    return (previous_button, next_button, range_left_text, range_right_text, reset_button, ignore_button, model_button, apply_button, range_wiget, bigfig, seis_widget)"
   ]
  },
  {
   "cell_type": "code",
   "execution_count": 16,
   "metadata": {},
   "outputs": [],
   "source": [
    "previous_button, next_button, range_left_text, range_right_text \\\n",
    "    , reset_button, ignore_button, model_button, apply_button, range_wiget, bigfig, seis_widget = setSeisWiget(SesiData[\"x\"], SesiData[\"y\"], OriginPValue, MarkPValue)"
   ]
  },
  {
   "cell_type": "markdown",
   "metadata": {},
   "source": [
    "### c/算法处理窗口"
   ]
  },
  {
   "cell_type": "code",
   "execution_count": 17,
   "metadata": {},
   "outputs": [],
   "source": [
    "def setAlgorithmWidget(alg_label_text, x, y, markvalue, originvalue, text_akargs):\n",
    "    '''设置算法窗口'''\n",
    "    style = {'description_width': 'initial'}\n",
    "    text_layout = Layout(width=\"auto\")\n",
    "    fig_layout = Layout(width=\"77%\", height=BottomFigHeight)\n",
    "    option_layout = Layout(width=\"23%\", align_items=\"flex-end\", justify_content=\"flex-end\")\n",
    "    \n",
    "    alg_label = HTML(value=alg_label_text)\n",
    "    alg_fig = getFigure(x, y, originvalue, markvalue, layout=fig_layout)\n",
    "    # 添加text\n",
    "    textwidget = []\n",
    "    for args in text_akargs:\n",
    "        floatext = FloatText(**args, layout=text_layout, style=style)\n",
    "        textwidget.append(floatext)\n",
    "    alg_widget = HBox([alg_fig[\"figure\"], VBox([alg_label, *textwidget], layout=option_layout)])\n",
    "    logging.info(\"algorithm widget GUI 构建完毕\")\n",
    "    return (alg_label, alg_fig, alg_widget, *textwidget)"
   ]
  },
  {
   "cell_type": "markdown",
   "metadata": {},
   "source": [
    "- 算法1 classic_sta_lta 典型STA/LTA"
   ]
  },
  {
   "cell_type": "code",
   "execution_count": 18,
   "metadata": {},
   "outputs": [],
   "source": [
    "alg1_label, alg1_fig, alg1_widget, alg1_sta, alg1_lta, alg1_trig1, alg1_trig2 = setAlgorithmWidget(alg_label_text=\"经典STA/LTA算法\", x=SesiData[\"x\"], y=SesiData[\"y\"], markvalue=MarkPValue, originvalue=OriginPValue, text_akargs=[\n",
    "             dict(value=Alg1_Sta, step=1, description=\"STA Number: \", name=\"alg1_sta\")\n",
    "            , dict(value=Alg1_Lta, step=1, description=\"LTA Number: \", name=\"alg1_lta\")\n",
    "            , dict(value=Alg1_Trig1, step=0.1, description=\"Trigger Low: \", name=\"alg1_trig1\")\n",
    "            , dict(value=Alg1_Trig2, step=0.1, description=\"Trigger High: \", name=\"alg1_trig2\")\n",
    "         ])"
   ]
  },
  {
   "cell_type": "markdown",
   "metadata": {},
   "source": [
    "- 算法2  Z探测 z_detect"
   ]
  },
  {
   "cell_type": "code",
   "execution_count": 19,
   "metadata": {},
   "outputs": [],
   "source": [
    "alg2_label, alg2_fig, alg2_widget, alg2_detect, alg2_trig1, alg2_trig2 = setAlgorithmWidget(alg_label_text=\"Z检测算法\", x=SesiData[\"x\"], y=SesiData[\"y\"], markvalue=MarkPValue, originvalue=OriginPValue, text_akargs=[\n",
    "             dict(value=Z_Detect, step=1, description=\"Z Delect Number: \", name=\"z_detect\")\n",
    "            , dict(value=Alg2_Trig1, step=0.1, description=\"Trigger Low: \", name=\"alg2_trig1\")\n",
    "            , dict(value=Alg2_Trig2, step=0.1, description=\"Trigger High: \", name=\"alg2_trig2\")\n",
    "         ])"
   ]
  },
  {
   "cell_type": "markdown",
   "metadata": {},
   "source": [
    "- 算法3 递归 STA/LTA recursive_sta_lta"
   ]
  },
  {
   "cell_type": "code",
   "execution_count": 20,
   "metadata": {},
   "outputs": [],
   "source": [
    "alg3_label, alg3_fig, alg3_widget, alg3_sta, alg3_lta, alg3_trig1, alg3_trig2 = setAlgorithmWidget(alg_label_text=\"递归STA/LTA算法\", x=SesiData[\"x\"], y=SesiData[\"y\"], markvalue=MarkPValue, originvalue=OriginPValue, text_akargs=[\n",
    "             dict(value=Alg3_Sta, step=1, description=\"STA Number: \", name=\"alg3_sta\")\n",
    "            , dict(value=Alg3_Lta, step=1, description=\"LTA Number: \", name=\"alg3_lta\")\n",
    "            , dict(value=Alg3_Trig1, step=0.1, description=\"Trigger Low: \", name=\"alg3_trig1\")\n",
    "            , dict(value=Alg3_Trig2, step=0.1, description=\"Trigger High: \", name=\"alg3_trig2\")\n",
    "         ])"
   ]
  },
  {
   "cell_type": "markdown",
   "metadata": {},
   "source": [
    "- 算法4 卡尔STA触发 carl_sta_trig"
   ]
  },
  {
   "cell_type": "code",
   "execution_count": 21,
   "metadata": {},
   "outputs": [],
   "source": [
    "alg4_label, alg4_fig, alg4_widget, alg4_sta, alg4_lta, alg4_carl1, alg4_carl2, alg4_trig1, alg4_trig2 = setAlgorithmWidget(alg_label_text=\"卡尔STA触发算法\", x=SesiData[\"x\"], y=SesiData[\"y\"], markvalue=MarkPValue, originvalue=OriginPValue, text_akargs=[\n",
    "             dict(value=Alg4_Sta, step=1, description=\"STA Number: \", name=\"alg4_sta\")\n",
    "            , dict(value=Alg4_Lta, step=1, description=\"LTA Number: \", name=\"alg4_lta\")\n",
    "            , dict(value=Alg4_Carl1, step=0.1, description=\"Carl Low: \", name=\"alg4_carl1\")\n",
    "            , dict(value=Alg4_Carl2, step=0.1, description=\"Carl High: \", name=\"alg4_carl2\")\n",
    "            , dict(value=Alg4_Trig1, step=0.1, description=\"Trigger Low: \", name=\"alg4_trig1\")\n",
    "            , dict(value=Alg4_Trig2, step=0.1, description=\"Trigger High: \", name=\"alg4_trig2\")\n",
    "         ])"
   ]
  },
  {
   "cell_type": "markdown",
   "metadata": {},
   "source": [
    "- 算法5 延迟STA delayed_sta_lta"
   ]
  },
  {
   "cell_type": "code",
   "execution_count": 22,
   "metadata": {},
   "outputs": [],
   "source": [
    "alg5_label, alg5_fig, alg5_widget, alg5_sta, alg5_lta, alg5_trig1, alg5_trig2 = setAlgorithmWidget(alg_label_text=\"经典STA/LTA算法\", x=SesiData[\"x\"], y=SesiData[\"y\"], markvalue=MarkPValue, originvalue=OriginPValue, text_akargs=[\n",
    "             dict(value=Alg5_Sta, step=1, description=\"STA Number: \", name=\"alg5_sta\")\n",
    "            , dict(value=Alg5_Lta, step=1, description=\"LTA Number: \", name=\"alg5_lta\")\n",
    "            , dict(value=Alg5_Trig1, step=0.1, description=\"Trigger Low: \", name=\"alg5_trig1\")\n",
    "            , dict(value=Alg5_Trig2, step=0.1, description=\"Trigger High: \", name=\"alg5_trig2\")\n",
    "         ])"
   ]
  },
  {
   "cell_type": "markdown",
   "metadata": {},
   "source": [
    "- 重置各参数"
   ]
  },
  {
   "cell_type": "code",
   "execution_count": 23,
   "metadata": {},
   "outputs": [],
   "source": [
    "def updatePara():\n",
    "    '''重置各算法参数'''\n",
    "    # 算法1\n",
    "    alg1_sta.value, alg1_lta.value, alg1_trig1.value, alg1_trig2.value = Alg1_Sta, Alg1_Lta, Alg1_Trig1, Alg1_Trig2\n",
    "    # 算法2\n",
    "    alg2_detect.value, alg2_trig1.value, alg2_trig2.value = Z_Detect, Alg2_Trig1, Alg2_Trig2\n",
    "    # 算法3\n",
    "    alg3_sta.value, alg3_lta.value, alg3_trig1.value, alg3_trig2.value = Alg3_Sta, Alg3_Lta, Alg3_Trig1, Alg3_Trig2\n",
    "    # 算法4\n",
    "    alg4_sta.value, alg4_lta.value, alg4_carl1.value, alg4_carl2.value, alg4_trig1.value, alg4_trig2.value = Alg4_Sta, Alg4_Lta, Alg4_Carl1, Alg4_Carl2, Alg4_Trig1, Alg4_Trig2\n",
    "    # 算法5\n",
    "    alg5_sta.value, alg5_lta.value, alg5_trig1.value, alg5_trig2.value = Alg5_Sta, Alg5_Lta, Alg5_Trig1, Alg5_Trig2\n",
    "    \n",
    "    logging.info(\"各算法初始参数重置完毕\")"
   ]
  },
  {
   "cell_type": "markdown",
   "metadata": {},
   "source": [
    "- 汇总"
   ]
  },
  {
   "cell_type": "code",
   "execution_count": 24,
   "metadata": {},
   "outputs": [],
   "source": [
    "tab_layout = Layout(width=\"99%\")\n",
    "tab_widget = Tab([alg1_widget, alg2_widget, alg3_widget, alg4_widget, alg5_widget], layout=tab_layout)\n",
    "tab_widget.set_title(0, \"经典STA/LTA\")\n",
    "tab_widget.set_title(1, \"Z检测\")\n",
    "tab_widget.set_title(2, \"递归STA/LTA\")\n",
    "tab_widget.set_title(3, \"卡尔STA触发\")\n",
    "tab_widget.set_title(4, \"延迟STA/LTA\")"
   ]
  },
  {
   "cell_type": "markdown",
   "metadata": {},
   "source": [
    "## 3、添加回调"
   ]
  },
  {
   "cell_type": "markdown",
   "metadata": {},
   "source": [
    "### 添加一系列按钮的回调事件"
   ]
  },
  {
   "cell_type": "code",
   "execution_count": 25,
   "metadata": {},
   "outputs": [],
   "source": [
    "def switchItem(widget, next_move=True):\n",
    "    '''切换下拉框选择内容'''\n",
    "    data, current_index = widget.options, widget.index\n",
    "    move_index = (current_index + 1) if(next_move) else (current_index - 1) \n",
    "    # 判断索引值，往下移动时\n",
    "    move_index = 0 if(move_index==len(data) and next_move) else move_index\n",
    "    move_index = len(data)-1 if(move_index<0 and not next_move) else move_index\n",
    "    # 更新索引值\n",
    "    widget.index = move_index\n",
    "    \n",
    "def previousButtonClick(*args):\n",
    "    '''前一个按钮事件'''\n",
    "    if(ChangeMode == \"Event\"):\n",
    "        switchItem(event_widget, next_move=False)\n",
    "        logging.info(\"切换前一个事件\")\n",
    "    else:\n",
    "        switchItem(station_widget, next_move=False)\n",
    "        logging.info(\"切换前一个台站\")\n",
    "\n",
    "def nextButtonClick(*args):\n",
    "    '''后一个按钮事件'''\n",
    "    if(ChangeMode == \"Event\"):\n",
    "        switchItem(event_widget, next_move=True)\n",
    "        logging.info(\"切换后一个事件\")\n",
    "    else:\n",
    "        switchItem(station_widget, next_move=True)\n",
    "        logging.info(\"切换后一个台站\")\n",
    "        \n",
    "previous_button.on_click(previousButtonClick)\n",
    "next_button.on_click(nextButtonClick)\n",
    "        \n",
    "def changeButtonModel(*args):\n",
    "    '''改变按钮的行为模式'''\n",
    "    global ChangeMode\n",
    "    value = model_button.description\n",
    "    ChangeMode = \"Event\" if(\"Station\" in value) else \"Station\"\n",
    "    model_button.description = ChangeMode + \" Mode\"\n",
    "    logging.info(\"切换模式\")\n",
    "\n",
    "model_button.on_click(changeButtonModel)\n",
    "\n",
    "def resetButtonClick(*args):\n",
    "    '''重置标定p波按钮'''\n",
    "    # 重新读取\n",
    "    updateSeisData()\n",
    "    updatePara()\n",
    "    logging.info(\"重置震相标定位置，及算法初始参数\")\n",
    "\n",
    "reset_button.on_click(resetButtonClick)"
   ]
  },
  {
   "cell_type": "markdown",
   "metadata": {},
   "source": [
    "### 添加应用回调"
   ]
  },
  {
   "cell_type": "code",
   "execution_count": 26,
   "metadata": {},
   "outputs": [],
   "source": [
    "def getOutputFolder(remove_file=False):\n",
    "    '''获取输出文件夹位置'''\n",
    "    folder, filename = os.path.split(station_widget.value)\n",
    "    _, subfolder = os.path.split(folder)\n",
    "    # 判断\n",
    "    targetfolder = os.path.join(OutputFolder, subfolder)\n",
    "    if(not os.path.isdir(targetfolder)):\n",
    "        os.mkdir(targetfolder)\n",
    "    # 判断\n",
    "    target_file = os.path.join(targetfolder, filename)\n",
    "    if(remove_file and os.path.exists(target_file)):\n",
    "        logging.info(\"删除输出文件内的重复文件:{}-{}\".format(subfolder, filename))\n",
    "        os.remove(target_file)\n",
    "    return (targetfolder, target_file)\n",
    "\n",
    "def writeSACFile(target_file, suffix=[\".Z\", \".R\", \".T\"]):\n",
    "    '''写入sac文件'''\n",
    "    origin_file, markvalue = station_widget.value, MarkPValue\n",
    "    origin_prefix, target_prefix = os.path.splitext(origin_file)[0], os.path.splitext(target_file)[0]\n",
    "    targetkey, t_keystr, t_keystrvalue = TargetKey, TargetKeyStr, TargetKeyStrValue\n",
    "    # 循环每个file\n",
    "    for file_suffix in suffix:\n",
    "        origin_file, target_file = origin_prefix+file_suffix, target_prefix+file_suffix\n",
    "        file = read(origin_file)[0]\n",
    "        # 写入字段\n",
    "        file.stats.sac[targetkey] = markvalue + SesiData[\"b\"]\n",
    "        file.stats.sac[t_keystr] = t_keystrvalue\n",
    "        # 保存文件\n",
    "        file.write(target_file, format=\"SAC\")\n",
    "        logging.info(\"写入文件成功:{}\".format(target_file))\n",
    "\n",
    "def applyButtonClick(*args):\n",
    "    '''添加应用回调'''\n",
    "    _, target_file = getOutputFolder(remove_file=False)\n",
    "    writeSACFile(target_file)\n",
    "    # 检查模式\n",
    "    model = model_widget.value\n",
    "    if(model == \"Auto Loop\"):\n",
    "        nextButtonClick()\n",
    "    elif(model == \"Auto Plot\"):\n",
    "        # 线程内绘图，减少GUI卡顿\n",
    "#         plotWithThread(filename=target_file)\n",
    "        debugAlgFig(filename=target_file)\n",
    "        nextButtonClick()\n",
    "\n",
    "apply_button.on_click(applyButtonClick)\n",
    "\n",
    "def ignoreButtonClick(*args):\n",
    "    '''添加忽略回调'''\n",
    "    model = model_widget.value\n",
    "    if(model in [\"Auto Loop\", \"Auto Plot\"]):\n",
    "        nextButtonClick()\n",
    "\n",
    "ignore_button.on_click(ignoreButtonClick)"
   ]
  },
  {
   "cell_type": "markdown",
   "metadata": {},
   "source": [
    "### 计算数据"
   ]
  },
  {
   "cell_type": "code",
   "execution_count": 27,
   "metadata": {},
   "outputs": [],
   "source": [
    "def getWidgetValue(widget, sampling_rate=1, intmode=True):\n",
    "    '''获取'''\n",
    "    if(intmode):\n",
    "        # sampling_rate 传入\n",
    "        value = int(widget.value * sampling_rate)\n",
    "        if(value==0):\n",
    "            logging.warning(\"{}参数值为0，这或许会产生错误\".format(widget.description))\n",
    "        return value\n",
    "    else:\n",
    "        return widget.value\n",
    "    \n",
    "def calAlg1(data, sampling_rate):\n",
    "    '''计算经典STA/LTA'''\n",
    "    global AlgorithmData\n",
    "    nsta, nlta = getWidgetValue(alg1_sta, sampling_rate=sampling_rate), getWidgetValue(alg1_lta, sampling_rate=sampling_rate)\n",
    "    AlgorithmData[\"classic_sta_lta\"] = classic_sta_lta(data, nsta=nsta, nlta=nlta)\n",
    "    \n",
    "def calAlg2(data, sampling_rate):\n",
    "    '''计算Z检测'''\n",
    "    global AlgorithmData\n",
    "    nsta = getWidgetValue(alg2_detect, sampling_rate=sampling_rate)\n",
    "    AlgorithmData[\"z_detect\"] = z_detect(data, nsta=nsta)\n",
    "    \n",
    "def calAlg3(data, sampling_rate):\n",
    "    '''计算递归STA/LTA'''\n",
    "    global AlgorithmData\n",
    "    nsta, nlta = getWidgetValue(alg3_sta, sampling_rate=sampling_rate), getWidgetValue(alg3_lta, sampling_rate=sampling_rate)\n",
    "    AlgorithmData[\"recursive_sta_lta\"] = recursive_sta_lta(data, nsta=nsta, nlta=nlta)\n",
    "    \n",
    "def calAlg4(data, sampling_rate):\n",
    "    '''计算卡尔STA触发'''\n",
    "    global AlgorithmData\n",
    "    nsta, nlta = getWidgetValue(alg4_sta, sampling_rate=sampling_rate), getWidgetValue(alg4_lta, sampling_rate=sampling_rate)\n",
    "    carl1, carl2 = getWidgetValue(alg4_carl1, intmode=False), getWidgetValue(alg4_carl2, intmode=False)\n",
    "    AlgorithmData[\"carl_sta_trig\"] = carl_sta_trig(data, nsta=nsta, nlta=nlta, ratio=carl1, quiet=carl2)\n",
    "    \n",
    "def calAlg5(data, sampling_rate):\n",
    "    '''计算延迟STA/LTA触发'''\n",
    "    global AlgorithmData\n",
    "    nsta, nlta = getWidgetValue(alg5_sta, sampling_rate=sampling_rate), getWidgetValue(alg5_lta, sampling_rate=sampling_rate)\n",
    "    AlgorithmData[\"delayed_sta_lta\"] = delayed_sta_lta(data, nsta=nsta, nlta=nlta)\n",
    "\n",
    "def calculateWidgetData(data, sampling_rate):\n",
    "    '''计算台站数据'''\n",
    "    calAlg1(data, sampling_rate)\n",
    "    calAlg2(data, sampling_rate)\n",
    "    calAlg3(data, sampling_rate)\n",
    "    calAlg4(data, sampling_rate)\n",
    "    calAlg5(data, sampling_rate)"
   ]
  },
  {
   "cell_type": "markdown",
   "metadata": {},
   "source": [
    "### 单个输入框的计算数据"
   ]
  },
  {
   "cell_type": "code",
   "execution_count": 28,
   "metadata": {},
   "outputs": [],
   "source": [
    "def updateAlg1Data(*args):\n",
    "    '''更新经典STA/LTA算法'''\n",
    "    # 判断sta与lta的值大小\n",
    "    if(alg1_sta.value >= alg1_lta.value):\n",
    "        logging.warning(\"经典STA/LTA算法：STA值大于或等于LTA\")\n",
    "    calAlg1(data=SesiData[\"y\"], sampling_rate=SesiData[\"sampling_rate\"])\n",
    "    # 更新图形\n",
    "    updateFigureData(SesiData[\"x\"], OriginPValue, MarkPValue, *range_wiget.value, ydatas=[AlgorithmData[\"classic_sta_lta\"]], figures=[alg1_fig] )\n",
    "\n",
    "# 更新经典STA/LTA算法\n",
    "alg1_sta.observe(updateAlg1Data, names=\"value\")\n",
    "alg1_lta.observe(updateAlg1Data, names=\"value\")"
   ]
  },
  {
   "cell_type": "code",
   "execution_count": 29,
   "metadata": {},
   "outputs": [],
   "source": [
    "def updateAlg2Data(*args):\n",
    "    '''更新Z检测算法'''\n",
    "    # 判断sta与lta的值大小\n",
    "    calAlg2(data=SesiData[\"y\"], sampling_rate=SesiData[\"sampling_rate\"])\n",
    "    # 更新图形\n",
    "    updateFigureData(SesiData[\"x\"], OriginPValue, MarkPValue, *range_wiget.value, ydatas=[AlgorithmData[\"z_detect\"]], figures=[alg2_fig] )\n",
    "\n",
    "# 更新经典STA/LTA算法\n",
    "alg2_detect.observe(updateAlg2Data, names=\"value\")"
   ]
  },
  {
   "cell_type": "code",
   "execution_count": 30,
   "metadata": {},
   "outputs": [],
   "source": [
    "def updateAlg3Data(*args):\n",
    "    '''更新递归STA/LTA算法'''\n",
    "    # 判断sta与lta的值大小\n",
    "    if(alg3_sta.value >= alg3_lta.value):\n",
    "        logging.warning(\"递归STA/LTA算法：STA值大于或等于LTA\")\n",
    "    calAlg3(data=SesiData[\"y\"], sampling_rate=SesiData[\"sampling_rate\"])\n",
    "    # 更新图形\n",
    "    updateFigureData(SesiData[\"x\"], OriginPValue, MarkPValue, *range_wiget.value, ydatas=[AlgorithmData[\"recursive_sta_lta\"]], figures=[alg3_fig] )\n",
    "\n",
    "# 更新经典STA/LTA算法\n",
    "alg3_sta.observe(updateAlg3Data, names=\"value\")\n",
    "alg3_lta.observe(updateAlg3Data, names=\"value\")"
   ]
  },
  {
   "cell_type": "code",
   "execution_count": 31,
   "metadata": {},
   "outputs": [],
   "source": [
    "def updateAlg4Data(*args):\n",
    "    '''更新卡尔STA算法'''\n",
    "    # 判断sta与lta的值大小\n",
    "    if(alg4_sta.value >= alg4_lta.value):\n",
    "        logging.warning(\"卡尔STA算法：STA值大于或等于LTA\")\n",
    "    calAlg4(data=SesiData[\"y\"], sampling_rate=SesiData[\"sampling_rate\"])\n",
    "    # 更新图形\n",
    "    updateFigureData(SesiData[\"x\"], OriginPValue, MarkPValue, *range_wiget.value, ydatas=[AlgorithmData[\"carl_sta_trig\"]], figures=[alg4_fig] )\n",
    "\n",
    "# 更新经典STA/LTA算法\n",
    "alg4_sta.observe(updateAlg4Data, names=\"value\")\n",
    "alg4_lta.observe(updateAlg4Data, names=\"value\")\n",
    "alg4_carl1.observe(updateAlg4Data, names=\"value\")\n",
    "alg4_carl2.observe(updateAlg4Data, names=\"value\")"
   ]
  },
  {
   "cell_type": "code",
   "execution_count": 32,
   "metadata": {},
   "outputs": [],
   "source": [
    "def updateAlg5Data(*args):\n",
    "    '''更新延迟STA/LTA算法'''\n",
    "    # 判断sta与lta的值大小\n",
    "    if(alg5_sta.value >= alg5_lta.value):\n",
    "        logging.warning(\"延迟STA/LTA算法：STA值大于或等于LTA\")\n",
    "    calAlg5(data=SesiData[\"y\"], sampling_rate=SesiData[\"sampling_rate\"])\n",
    "    # 更新图形\n",
    "    updateFigureData(SesiData[\"x\"], OriginPValue, MarkPValue, *range_wiget.value, ydatas=[AlgorithmData[\"delayed_sta_lta\"]], figures=[alg5_fig] )\n",
    "\n",
    "# 更新经典STA/LTA算法\n",
    "alg5_sta.observe(updateAlg5Data, names=\"value\")\n",
    "alg5_lta.observe(updateAlg5Data, names=\"value\")"
   ]
  },
  {
   "cell_type": "markdown",
   "metadata": {},
   "source": [
    "### 地震事件及台站选择下拉框"
   ]
  },
  {
   "cell_type": "code",
   "execution_count": 33,
   "metadata": {},
   "outputs": [],
   "source": [
    "def updateStations(*args):\n",
    "    '''更新台站列表'''\n",
    "    folder = event_widget.value\n",
    "    station_options = getSeisStations(folder=folder)\n",
    "    station_widget.options = station_options\n",
    "    logging.info(\"已更新地震事件文件夹:{}\".format(folder))\n",
    "    \n",
    "event_widget.observe(updateStations, names=\"value\")\n",
    "\n",
    "    \n",
    "def updateRangeValue(widget, xdata):\n",
    "    '''更新rangewidget值'''\n",
    "    minum, maxnum = xdata.min(), xdata.max()\n",
    "    widget.min, widget.max = minum, maxnum\n",
    "    minvalue, maxvalue = widget.value\n",
    "    # 判断是否继承\n",
    "    if(minum<=minvalue<maxvalue<=maxnum):\n",
    "        pass\n",
    "    else:\n",
    "        widget.value = minum, maxnum\n",
    "    \n",
    "def updateSeisData(*args):\n",
    "    '''更新数据'''\n",
    "    global SesiData, OriginPValue, MarkPValue\n",
    "    station_path = station_widget.value\n",
    "    # 重新获取数据\n",
    "    SesiData = readSeisData(station_path)\n",
    "    # 重新计算所有台站数据\n",
    "    calculateWidgetData(data=SesiData[\"y\"], sampling_rate=SesiData[\"sampling_rate\"])\n",
    "    logging.info(\"已选择地震事件台站:{}\".format(station_path))\n",
    "    \n",
    "    # 更新数据, 标记位置，自动标记位置\n",
    "    MarkPValue, OriginPValue = SesiData[\"p_relative\"], SesiData[\"t1_relative\"]\n",
    "    # 更新时间窗口\n",
    "    updateRangeValue(range_wiget, SesiData[\"x\"])\n",
    "    # 更新全部事件数据\n",
    "    updateFigureData(SesiData[\"x\"], OriginPValue, MarkPValue, *range_wiget.value, ydatas=[SesiData[\"y\"], *[AlgorithmData[i] for i in [\"classic_sta_lta\", \"z_detect\", \"recursive_sta_lta\", \"carl_sta_trig\", \"delayed_sta_lta\"]]]\n",
    "                     , figures=[bigfig, alg1_fig, alg2_fig, alg3_fig, alg4_fig, alg5_fig] )\n",
    "\n",
    "station_widget.observe(updateSeisData, names=[\"value\"])\n",
    "\n",
    "    \n",
    "def updateModel(*args):\n",
    "    '''选择模式'''\n",
    "    model_choice = model_widget.value\n",
    "    logging.info(\"选择模式:{}\".format(model_choice))\n",
    "    \n",
    "model_widget.observe(updateModel, names=[\"value\"])"
   ]
  },
  {
   "cell_type": "markdown",
   "metadata": {},
   "source": [
    "### 更新图像"
   ]
  },
  {
   "cell_type": "code",
   "execution_count": 34,
   "metadata": {},
   "outputs": [],
   "source": [
    "def updateHideLine(new_x, new_y, current_value, lines=[]):\n",
    "    '''更新曲线'''\n",
    "    new_xmin, new_xmax = new_x.min(), new_x.max()\n",
    "    origin_xvalue = current_value if(new_xmin <= current_value <= new_xmax) else new_xmin\n",
    "    opacities = 1 if(new_xmin <= current_value <= new_xmax) else 0\n",
    "    for line in lines:\n",
    "        line.x, line.y = [origin_xvalue, origin_xvalue], [new_y.min(), new_y.max()]\n",
    "        line.opacities = [opacities] \n",
    "\n",
    "def updateFigureData(xdata, originvalue, markvalue, minvalue=0, maxvalue=0, ydatas=[], figures=[]):\n",
    "    '''更新图像数据'''    \n",
    "    mask = ((minvalue<=xdata) & (xdata<=maxvalue)) if(minvalue!=maxvalue) else np.full_like(xdata, True)\n",
    "    new_x = xdata[mask]\n",
    "    # 同步更新图像\n",
    "    for y, figure in zip(ydatas, figures):\n",
    "        new_y, fig, line, markline, originline = y[mask], figure[\"figure\"], figure[\"line\"], figure[\"markline\"], figure[\"originline\"]\n",
    "        # 判断更新\n",
    "        if(len(new_x)==0 or len(new_y)==0):\n",
    "            return None\n",
    "        # 一次更新\n",
    "        with fig.hold_sync():\n",
    "            # 更新曲线\n",
    "            line.x, line.y = new_x, new_y\n",
    "            # 更新直线\n",
    "            updateHideLine(new_x, new_y, originvalue, [originline])\n",
    "            updateHideLine(new_x, new_y, markvalue, [markline])"
   ]
  },
  {
   "cell_type": "markdown",
   "metadata": {},
   "source": [
    "### 更新原始地震图像时间范围"
   ]
  },
  {
   "cell_type": "code",
   "execution_count": 35,
   "metadata": {},
   "outputs": [],
   "source": [
    "def updateFigureRange(*args):\n",
    "    '''更新主图范围'''    \n",
    "    updateFigureData(SesiData[\"x\"], OriginPValue, MarkPValue, *range_wiget.value, ydatas=[SesiData[\"y\"]], figures=[bigfig])\n",
    "    # 自动按下重置按钮, 会出现严重卡顿\n",
    "#     updateSeisData()\n",
    "    # 更新数值\n",
    "    range_left_text.value, range_right_text.value = range_wiget.value\n",
    "\n",
    "range_wiget.observe(updateFigureRange, names=\"value\")\n",
    "\n",
    "def updatrFigureRangeText(text_widget):\n",
    "    '''更新时间轴'''    \n",
    "    leftnum, rightnum = SesiData[\"x\"].min(), SesiData[\"x\"].max()\n",
    "    leftvalue, rightvalue = range_left_text.value, range_right_text.value\n",
    "    # 判断是否相等\n",
    "    if(leftvalue >= rightvalue):\n",
    "        text_widget[\"owner\"].value = text_widget[\"old\"]\n",
    "        return None\n",
    "    \n",
    "    # 判断数值范围\n",
    "    if( (leftnum<=leftvalue<rightnum) and (leftnum<rightvalue<=rightnum)):\n",
    "        # 更新值\n",
    "        range_wiget.value = leftvalue, rightvalue\n",
    "    else:\n",
    "        text_widget[\"owner\"].value = text_widget[\"old\"]\n",
    "        return None\n",
    "    \n",
    "# 更新值, 防止连环出错\n",
    "range_left_text.value, range_right_text.value = range_wiget.value\n",
    "range_left_text.observe(updatrFigureRangeText, names=\"value\")\n",
    "# 添加回调\n",
    "range_right_text.observe(updatrFigureRangeText, names=\"value\")"
   ]
  },
  {
   "cell_type": "markdown",
   "metadata": {},
   "source": [
    "- 添加画刷，并且同步更新所有图像"
   ]
  },
  {
   "cell_type": "code",
   "execution_count": 36,
   "metadata": {},
   "outputs": [],
   "source": [
    "def addBrushSelector(main_figure, color=\"FireBrick\"):\n",
    "    '''添加画刷'''\n",
    "    brushintsel =  bq.interacts.BrushIntervalSelector(scale=main_figure[\"sc_x\"], color=color)\n",
    "    \n",
    "    def update(*args):\n",
    "        '''更新曲线及直线位置'''\n",
    "        if brushintsel.selected is not None and brushintsel.selected.shape == (2,):\n",
    "            # 更新图像\n",
    "            updateFigureData(SesiData[\"x\"], OriginPValue, MarkPValue, *brushintsel.selected, ydatas=[*[AlgorithmData[i] for i in [\"classic_sta_lta\", \"z_detect\", \"recursive_sta_lta\", \"carl_sta_trig\", \"delayed_sta_lta\"]]]\n",
    "                     , figures=[alg1_fig, alg2_fig, alg3_fig, alg4_fig, alg5_fig] )\n",
    "\n",
    "    # 添加回调函数\n",
    "    brushintsel.observe(update, 'selected')\n",
    "    main_figure[\"figure\"].interaction = brushintsel\n",
    "    \n",
    "addBrushSelector(bigfig)"
   ]
  },
  {
   "cell_type": "markdown",
   "metadata": {},
   "source": [
    "- 添加直线线刷"
   ]
  },
  {
   "cell_type": "code",
   "execution_count": 37,
   "metadata": {},
   "outputs": [],
   "source": [
    "def addLineSelector(color=\"green\", opacities=[0], figures=[]):\n",
    "    '''添加线型画刷'''\n",
    "    marklines = [fig[\"markline\"] for fig in figures]\n",
    "    for index,main_figure in enumerate(figures[1:]):\n",
    "        other_lines = marklines.copy()\n",
    "#         other_lines.pop(index)\n",
    "        \n",
    "        # 创建回调函数\n",
    "        def update(selector):\n",
    "            '''更新坐标位置'''\n",
    "            global MarkPValue\n",
    "            # 判断更新\n",
    "            if(selector[\"name\"]==\"selected\"):\n",
    "                value = selector[\"new\"][0]\n",
    "                MarkPValue = value\n",
    "                # 获取直线\n",
    "                for line in other_lines:\n",
    "                    line.x = [value, value]\n",
    "                    line.opacities = [1]\n",
    "        \n",
    "        # 创建线刷\n",
    "        index_selector = bq.interacts.IndexSelector(scale=main_figure[\"sc_x\"], color=color, opacities=opacities, line_width=1)\n",
    "        index_selector.observe(update)\n",
    "        main_figure[\"figure\"].interaction = index_selector\n",
    "                \n",
    "addLineSelector(figures=[bigfig, alg1_fig, alg2_fig, alg3_fig, alg4_fig, alg5_fig])"
   ]
  },
  {
   "cell_type": "markdown",
   "metadata": {},
   "source": [
    "- 绘制当前窗口的联合图像"
   ]
  },
  {
   "cell_type": "code",
   "execution_count": 38,
   "metadata": {},
   "outputs": [],
   "source": [
    "def debugAlgFig(alg_lim=[-1,3 ], filename=\"\"):\n",
    "    '''画出所有算法在当前计算结果下的图'''\n",
    "    sampling_rate = SesiData[\"sampling_rate\"]\n",
    "    minum, maxnum = range_wiget.value\n",
    "    mask = (minum<=SesiData[\"x\"]) & (SesiData[\"x\"]<=maxnum)\n",
    "    ymin, ymax = SesiData[\"y\"][mask].min(), SesiData[\"y\"][mask].max()\n",
    "    ylimin, ylimax = ymin-(ymax-ymin)/4, ymax+(ymax-ymin)/4\n",
    "    \n",
    "    fig, ax = plt.subplots(figsize=(15,5))\n",
    "    # 绘制算法\n",
    "    ylim = []\n",
    "    for key, value in AlgorithmData.items():\n",
    "        ylim.append(value.min())\n",
    "        ylim.append(value.max())\n",
    "        ax.plot(value, linewidth=1, label=key)\n",
    "     # 设定范围\n",
    "    if(alg_lim != []):\n",
    "        ax.set_ylim(*alg_lim)\n",
    "    ax.set_xlim(minum*sampling_rate, maxnum*sampling_rate)\n",
    "        \n",
    "    ax2 = ax.twinx()\n",
    "    # 绘制原始波形\n",
    "    ax2.plot(SesiData[\"y\"], linewidth=1, alpha=0.6, label=\"origin\")\n",
    "    ax2.vlines(x=OriginPValue*sampling_rate, ymin=ylimin, ymax=ylimax, label=\"Origin P\", color=\"red\", alpha=0.7, linewidth=1)\n",
    "    ax2.vlines(x=MarkPValue*sampling_rate, ymin=ylimin, ymax=ylimax, label=\"Manual P\", color=\"orange\", alpha=0.7, linewidth=1)\n",
    "    ax2.set_xlim(minum*sampling_rate, maxnum*sampling_rate)\n",
    "    ax2.set_ylim(ylimin, ylimax)\n",
    "\n",
    "    ax.set_xlabel(\"Time\")\n",
    "    ax.set_ylabel(\"Algorithm Value\")\n",
    "    ax2.set_ylabel(\"Origin Data\")\n",
    "   \n",
    "    ax.legend(loc=\"lower left\")\n",
    "    ax2.legend(loc=\"lower right\")\n",
    "    plt.grid()\n",
    "    plt.tight_layout()\n",
    "    \n",
    "    if(filename!=\"\"):\n",
    "        plt.title(filename, loc=\"left\")\n",
    "        plt.savefig(filename+\".png\", dpi=300)\n",
    "        plt.close()\n",
    "\n",
    "    logging.info(\"绘图完毕:{}\".format(filename+\".png\"))\n",
    "        \n",
    "def plotWithThread(alg_lim=[-1,3 ], filename=\"\"):\n",
    "    '''绘图'''\n",
    "    work = Thread(target=debugAlgFig, args=[alg_lim, filename])\n",
    "    logging.info(\"开启绘图线程：{}\".format(filename))\n",
    "    work.start()"
   ]
  },
  {
   "cell_type": "markdown",
   "metadata": {},
   "source": [
    "## 4、汇总"
   ]
  },
  {
   "cell_type": "code",
   "execution_count": 39,
   "metadata": {},
   "outputs": [
    {
     "data": {
      "application/vnd.jupyter.widget-view+json": {
       "model_id": "1eb3de43fbad4ca496baf31fb0323b2b",
       "version_major": 2,
       "version_minor": 0
      },
      "text/plain": [
       "VBox(children=(Accordion(children=(HBox(children=(Dropdown(_dom_classes=('right-spacing-class',), description=…"
      ]
     },
     "metadata": {},
     "output_type": "display_data"
    }
   ],
   "source": [
    "# 首先更新数据\n",
    "updateSeisData()\n",
    "# 其次显示\n",
    "all_figure = VBox([select_widget, seis_widget, tab_widget])\n",
    "display(all_figure)"
   ]
  },
  {
   "cell_type": "markdown",
   "metadata": {},
   "source": [
    "## DEBUG"
   ]
  },
  {
   "cell_type": "code",
   "execution_count": 40,
   "metadata": {},
   "outputs": [
    {
     "data": {
      "image/png": "[encoded data removed]",
      "text/plain": [
       "<Figure size 1080x360 with 2 Axes>"
      ]
     },
     "metadata": {
      "needs_background": "light"
     },
     "output_type": "display_data"
    }
   ],
   "source": [
    "debugAlgFig(alg_lim=[-1.5,3])"
   ]
  },
  {
   "cell_type": "code",
   "execution_count": 41,
   "metadata": {},
   "outputs": [],
   "source": [
    "# calculateWidgetData(data=SesiData[\"y\"], sampling_rate=SesiData[\"sampling_rate\"])"
   ]
  },
  {
   "cell_type": "markdown",
   "metadata": {},
   "source": [
    "- 查看更新"
   ]
  },
  {
   "cell_type": "code",
   "execution_count": null,
   "metadata": {},
   "outputs": [],
   "source": []
  }
 ],
 "metadata": {
  "kernelspec": {
   "display_name": "Python 3",
   "language": "python",
   "name": "python3"
  },
  "language_info": {
   "codemirror_mode": {
    "name": "ipython",
    "version": 3
   },
   "file_extension": ".py",
   "mimetype": "text/x-python",
   "name": "python",
   "nbconvert_exporter": "python",
   "pygments_lexer": "ipython3",
   "version": "3.6.12"
  },
  "toc-autonumbering": false
 },
 "nbformat": 4,
 "nbformat_minor": 4
}
